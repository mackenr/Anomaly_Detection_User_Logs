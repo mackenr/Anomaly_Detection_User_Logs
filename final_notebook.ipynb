{
 "cells": [
  {
   "cell_type": "code",
   "execution_count": null,
   "metadata": {},
   "outputs": [],
   "source": [
    "from wrangle import *\n"
   ]
  },
  {
   "cell_type": "code",
   "execution_count": null,
   "metadata": {},
   "outputs": [],
   "source": [
    "programs = programs_dict()\n"
   ]
  },
  {
   "cell_type": "code",
   "execution_count": null,
   "metadata": {},
   "outputs": [],
   "source": [
    "all= programs[\"All\"]"
   ]
  },
  {
   "cell_type": "code",
   "execution_count": null,
   "metadata": {},
   "outputs": [],
   "source": [
    "\n",
    "ds = programs[\"DS\"]\n",
    "full_stack = programs[\"Full_Stack_PHP\"]\n",
    "front_end = programs[\"Front_End\"]"
   ]
  },
  {
   "attachments": {},
   "cell_type": "markdown",
   "metadata": {},
   "source": [
    "# Questions:\n"
   ]
  },
  {
   "cell_type": "markdown",
   "metadata": {},
   "source": [
    "## 1. Which lesson appears to attract the most traffic consistently across cohorts (per program)?\n"
   ]
  },
  {
   "cell_type": "code",
   "execution_count": null,
   "metadata": {},
   "outputs": [],
   "source": [
    "# Question 1\n",
    "# 1. Which lesson appears to attract the most traffic consistently across cohorts (per program)?\n",
    "\n",
    "\n",
    "ds_q1 = q1(ds)\n",
    "ds_q1"
   ]
  },
  {
   "cell_type": "code",
   "execution_count": null,
   "metadata": {},
   "outputs": [],
   "source": [
    "\n",
    "full_stack_q1 = q1(full_stack)\n",
    "full_stack_q1\n"
   ]
  },
  {
   "cell_type": "code",
   "execution_count": null,
   "metadata": {},
   "outputs": [],
   "source": [
    "\n",
    "front_end_q1 = q1(front_end)\n",
    "front_end_q1\n",
    "# since front end is such a small number I will not use them going forward\n"
   ]
  },
  {
   "attachments": {},
   "cell_type": "markdown",
   "metadata": {},
   "source": [
    "---\n",
    "<br>\n",
    "\n",
    "---"
   ]
  },
  {
   "cell_type": "markdown",
   "metadata": {},
   "source": [
    "## 2. Is there a cohort that referred to a lesson significantly more than other cohorts seemed to gloss over?\n"
   ]
  },
  {
   "cell_type": "code",
   "execution_count": null,
   "metadata": {},
   "outputs": [],
   "source": [
    "# Question 2\n",
    "# 2. Is there a cohort that referred to a lesson significantly more than other cohorts seemed to gloss over?\n",
    "\n",
    "ds_q2 = question2(ds)\n",
    "ds_q2\n"
   ]
  },
  {
   "cell_type": "code",
   "execution_count": null,
   "metadata": {},
   "outputs": [],
   "source": [
    "full_stack_q2 = question2(full_stack[full_stack.name != \"Staff\"])\n",
    "full_stack_q2\n"
   ]
  },
  {
   "attachments": {},
   "cell_type": "markdown",
   "metadata": {},
   "source": [
    "---\n",
    "<br>\n",
    "\n",
    "---"
   ]
  },
  {
   "attachments": {},
   "cell_type": "markdown",
   "metadata": {},
   "source": [
    "## 3. Are there students who, when active, hardly access the curriculum?\n",
    "## If so, what information do you have about these students?\n"
   ]
  },
  {
   "cell_type": "code",
   "execution_count": null,
   "metadata": {},
   "outputs": [],
   "source": [
    "# Question 3\n",
    "# 3. Are there students who, when active, hardly access the curriculum? If so, what information do you have about these students?\n",
    "\n",
    "\n",
    "question3(ds)\n"
   ]
  },
  {
   "cell_type": "code",
   "execution_count": null,
   "metadata": {},
   "outputs": [],
   "source": [
    "\n",
    "question3(full_stack[full_stack.name != \"Staff\"])\n"
   ]
  },
  {
   "attachments": {},
   "cell_type": "markdown",
   "metadata": {},
   "source": [
    "## Yes,we can see the students and respective cohorts they belong to. \n",
    "## They we identified by picking the bottom 25% of access counts with respect to program type.\n",
    "---\n",
    "<br>\n",
    "\n",
    "---"
   ]
  },
  {
   "cell_type": "markdown",
   "metadata": {},
   "source": [
    "## 4. Is there any suspicious activity, such as users/machines/etc accessing the curriculum who shouldn’t be? Does it appear that any web-scraping is happening? Are there any suspicious IP ## "
   ]
  },
  {
   "cell_type": "code",
   "execution_count": null,
   "metadata": {},
   "outputs": [],
   "source": [
    "# Question 4\n",
    "# Is there any suspicious activity, such as users/machines/etc accessing the curriculum who shouldn’t be? \n",
    "# Does it appear that any web-scraping is happening? Are there any suspicious IP addresses?\n",
    "\n",
    "\n",
    "q4(ds)\n",
    "\n",
    "q4(full_stack[full_stack.name != \"Staff\"])\n",
    "\n",
    "\n"
   ]
  },
  {
   "attachments": {},
   "cell_type": "markdown",
   "metadata": {},
   "source": [
    "###  These ids are suspicious because they have very high number of ips associated with the same id. \n",
    "###  They are above the 95th percentile.\n",
    "###   Due to this high number of IP's it is likely that they are web-scraping\n",
    "### We will explore the question of if they shouldn't be in the next question.\n",
    "\n",
    "---\n",
    "<br>\n",
    "\n",
    "---\n"
   ]
  },
  {
   "attachments": {},
   "cell_type": "markdown",
   "metadata": {},
   "source": [
    "## 5. At some point in 2019, the ability for students and alumni to access both curriculums (web dev to ds, ds to web dev) should have been shut off. \n",
    "## Do you see any evidence of that happening?\n",
    "## Did it happen before?"
   ]
  },
  {
   "cell_type": "code",
   "execution_count": null,
   "metadata": {},
   "outputs": [],
   "source": [
    "# 5. At some point in 2019, the ability for students and alumni to access both curriculums (web dev to ds, ds to web dev) should have been shut off.\n",
    "# Do you see any evidence of that happening? Did it happen before?\n",
    "\n",
    "\n",
    "\n"
   ]
  },
  {
   "cell_type": "code",
   "execution_count": null,
   "metadata": {},
   "outputs": [],
   "source": [
    "q5(ds,full_stack)\n",
    "\n"
   ]
  },
  {
   "attachments": {},
   "cell_type": "markdown",
   "metadata": {},
   "source": [
    "### I found the common intersection between all DS cohorts. \n",
    "### Using that set I was able to flag all the students in Web dev who were accessing DS materials. \n",
    "### This set was rather conservative so there could in fact be more, nonetheless it clearly shows that access has not been entirely revoked only reduced, and there have been relatively high access past the point in 2019 where access was supposed end.\n",
    "---\n",
    "<br>\n",
    "\n",
    "---"
   ]
  },
  {
   "cell_type": "markdown",
   "metadata": {},
   "source": [
    "## 6. What topics are grads continuing to reference after graduation and into their jobs (for each program)?\n"
   ]
  },
  {
   "cell_type": "code",
   "execution_count": null,
   "metadata": {},
   "outputs": [],
   "source": [
    "#6. What topics are grads continuing to reference after graduation and into their jobs (for each program)\n",
    "\n",
    "q6_ds=q6(ds)\n",
    "q6_ds\n",
    "\n"
   ]
  },
  {
   "cell_type": "code",
   "execution_count": null,
   "metadata": {},
   "outputs": [],
   "source": [
    "\n",
    "q6_full_stack=q6(full_stack[full_stack.name!='Staff'])\n",
    "q6_full_stack"
   ]
  },
  {
   "attachments": {},
   "cell_type": "markdown",
   "metadata": {},
   "source": [
    "### We answer this question by presenting the lists above.\n",
    "---\n",
    "<br>\n",
    "\n",
    "---"
   ]
  },
  {
   "cell_type": "markdown",
   "metadata": {},
   "source": [
    "## 7. Which lessons are least accessed?\n"
   ]
  },
  {
   "attachments": {},
   "cell_type": "markdown",
   "metadata": {},
   "source": [
    "### We answer the two questions below by selecting lessons accessed the least in Data science and in Web Dev, however since there are multiple sites only accessed once we have a long list for each program."
   ]
  },
  {
   "cell_type": "code",
   "execution_count": null,
   "metadata": {},
   "outputs": [],
   "source": [
    "#7 Which lessons are least accessed?\n",
    "\n",
    "q7_ds=q7(ds)\n",
    "q7_ds\n",
    "\n"
   ]
  },
  {
   "cell_type": "code",
   "execution_count": null,
   "metadata": {},
   "outputs": [],
   "source": [
    "\n",
    "q7_full_stack=q7(full_stack[full_stack.name!='Staff'])\n",
    "q7_full_stack\n",
    "\n"
   ]
  },
  {
   "attachments": {},
   "cell_type": "markdown",
   "metadata": {},
   "source": [
    "As a bonus we start to play with Density based scanning for anomaly detection. "
   ]
  },
  {
   "cell_type": "code",
   "execution_count": null,
   "metadata": {},
   "outputs": [],
   "source": [
    "\n",
    "\n",
    "import numpy as np\n",
    "import matplotlib.pyplot as plt\n",
    "from sklearn.cluster import DBSCAN\n",
    "from sklearn.preprocessing import StandardScaler,LabelEncoder\n",
    "\n",
    "\n",
    "# Generate random dataset with a DateTime index and discrete variables\n",
    "# dates = pd.date_range(start='2022-01-01', end='2022-01-31', freq='D')\n",
    "ds_new=ds.set_index(ds.datetime, drop=True).drop(columns=\"datetime\")\n",
    "# Create an instance of LabelEncoder\n",
    "le = LabelEncoder()\n",
    "\n",
    "# Apply LabelEncoder to all columns of type 'object' in the DataFrame\n",
    "ds_new=ds_new.drop(columns=['start_date','end_date','lesson'])\n",
    "ds_new = ds_new.apply(lambda x: le.fit_transform(x) if x.dtype == 'object' else x)\n",
    "\n",
    "X = ds_new\n",
    "\n",
    "\n",
    "# Scale the data\n",
    "X_scaled = StandardScaler().fit_transform(X)\n",
    "# Apply DBSCAN clustering algorithm to detect anomalies\n",
    "# A rule to use is that min sample should be greater than or equal to the number of dimensions+1\n",
    "min_samples=len(X.columns)+1\n",
    "\n",
    "\n",
    "\n",
    "dbscan = DBSCAN(eps=0.5, min_samples=min_samples)\n",
    "dbscan.fit(X_scaled)\n",
    "\n",
    "# Get the labels assigned to each data point\n",
    "labels = dbscan.labels_\n",
    "\n",
    "# Find the indices of anomalies (i.e., points labeled as -1)\n",
    "anomaly_indices = np.where(labels == -1)[0]\n",
    "\n",
    "# Print the number of anomalies detected\n",
    "print(f\"Number of anomalies detected: {len(anomaly_indices)}\")\n",
    "\n",
    "# Plot the dataset with anomalies highlighted in red\n",
    "plt.scatter(X_scaled[:, 0], X_scaled[:, 1], c=labels, cmap='cool')\n",
    "plt.scatter(X_scaled[anomaly_indices, 0], X_scaled[anomaly_indices, 1], c='r', marker='x', label='Anomalies')\n",
    "plt.legend()\n",
    "plt.show()\n",
    "\n",
    "\n",
    "original_labels = X.index[anomaly_indices]\n",
    "\n",
    "ds_new=ds.set_index(ds.datetime, drop=True).drop(columns=['start_date','end_date','lesson','datetime'])\n",
    "\n",
    "ds_anomalies=ds_new.loc[original_labels]\n",
    "\n",
    "#compare the percentage of anomalies based on the original dataframe.\n",
    "print(f'We find our anomalies to be {(len(ds_anomalies)/len(ds_new))*100:.4f}% of our original dataframe.')\n",
    "\n",
    "print( \"We groupby id and use the boolean cohort_window column to see the percentage access a user had within their cohort time frame and the overall count of their access.  Given this information, I assume these users dropped out of the program, and DB SCAN was capturing those users as anomalies.\\n\\n\")\n",
    "db_scan_analysis=ds_anomalies.groupby('id').cohort_window.agg(['mean','count']).sort_values(by='count',ascending=False)\n",
    "display(db_scan_analysis.head(),db_scan_analysis.describe())"
   ]
  },
  {
   "attachments": {},
   "cell_type": "markdown",
   "metadata": {},
   "source": [
    "Executive Summary:\n",
    "\n",
    "All questions were answered. Yet as bonus I employed DB SCAN. \n",
    "\n",
    "DB SCAN proved to be an interesting feature but it still needs to be further inspected to show why something is an anomaly. I could see this being an interesting tool to trigger warnings, however as I have it currently implemented it seemed to highlight low access and ignored high volume users and those who accessed outside of their cohort date, which seem more relevant given our use case.\n",
    "\n",
    "I also only used it once for the subset user logs where the users were DataScience students. "
   ]
  }
 ],
 "metadata": {
  "kernelspec": {
   "display_name": "Python 3.9.10 ('base')",
   "language": "python",
   "name": "python3"
  },
  "language_info": {
   "codemirror_mode": {
    "name": "ipython",
    "version": 3
   },
   "file_extension": ".py",
   "mimetype": "text/x-python",
   "name": "python",
   "nbconvert_exporter": "python",
   "pygments_lexer": "ipython3",
   "version": "3.9.10"
  },
  "orig_nbformat": 4,
  "vscode": {
   "interpreter": {
    "hash": "38cca0c38332a56087b24af0bc80247f4fced29cb4f7f437d91dc159adec9c4e"
   }
  }
 },
 "nbformat": 4,
 "nbformat_minor": 2
}
